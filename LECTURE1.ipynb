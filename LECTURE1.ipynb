{
 "cells": [
  {
   "cell_type": "markdown",
   "id": "5d8e685e-9f4e-41fd-a86e-d030c935fc6f",
   "metadata": {},
   "source": [
    "### Q1. Declare variables to store your name, age, and college name. Print them in a sentence.\n"
   ]
  },
  {
   "cell_type": "code",
   "execution_count": 4,
   "id": "b0f60609-6320-46b4-8c4b-8dbcc4ce95a8",
   "metadata": {},
   "outputs": [
    {
     "name": "stdout",
     "output_type": "stream",
     "text": [
      "My Name is Anand Kumar. i'm 20 years Old. I'm Currently Study At Centurion University\n"
     ]
    }
   ],
   "source": [
    "\n",
    "Name=\"Anand Kumar\"\n",
    "Age=20\n",
    "College_Name=\"Centurion University\"\n",
    "print( f\"My Name is {Name}. i'm {Age} years Old. I'm Currently Study At {College_Name}\")\n"
   ]
  },
  {
   "cell_type": "markdown",
   "id": "2308249a-49ba-4d2d-86b4-0ba1c4e8f238",
   "metadata": {},
   "source": [
    "### Q2. Swap two variables without using a third variable.\n"
   ]
  },
  {
   "cell_type": "code",
   "execution_count": 6,
   "id": "e8e44b47-0669-4e5f-8469-2aaf4134eee5",
   "metadata": {},
   "outputs": [
    {
     "name": "stdout",
     "output_type": "stream",
     "text": [
      "Before Swapping A=5 and B=6\n",
      "After Swapping A=6 and B=5\n"
     ]
    }
   ],
   "source": [
    "a=5\n",
    "b=6\n",
    "print(f\"Before Swapping A={a} and B={b}\")\n",
    "a=a+b\n",
    "b=a-b\n",
    "a=a-b\n",
    "print(f\"After Swapping A={a} and B={b}\")"
   ]
  },
  {
   "cell_type": "markdown",
   "id": "ceaed0c4-7320-41ae-8197-2bc5eb93a789",
   "metadata": {},
   "source": [
    "### Q3. Swap Two Variable Using third Variable "
   ]
  },
  {
   "cell_type": "code",
   "execution_count": 9,
   "id": "58aaef35-9a1d-442b-af3e-1776171ea399",
   "metadata": {
    "scrolled": true
   },
   "outputs": [
    {
     "name": "stdout",
     "output_type": "stream",
     "text": [
      "Before Swapping Value Of A=5 and B=6\n",
      "After Swapping Value Of A=6 and B=5\n"
     ]
    }
   ],
   "source": [
    "a=5\n",
    "b=6\n",
    "print(f\"Before Swapping Value Of A={a} and B={b}\")\n",
    "temp=a\n",
    "a=b\n",
    "b=temp\n",
    "print(f\"After Swapping Value Of A={a} and B={b}\")\n"
   ]
  },
  {
   "cell_type": "markdown",
   "id": "eda2f022-04c7-4554-ba01-734fbababe9b",
   "metadata": {},
   "source": [
    "### Q4 Identify the data types "
   ]
  },
  {
   "cell_type": "code",
   "execution_count": 15,
   "id": "5db8a6dc-eced-4856-9a96-f581c0bced56",
   "metadata": {},
   "outputs": [
    {
     "name": "stdout",
     "output_type": "stream",
     "text": [
      "<class 'int'>\n",
      "<class 'str'>\n",
      "<class 'float'>\n",
      "<class 'bool'>\n",
      "<class 'NoneType'>\n"
     ]
    }
   ],
   "source": [
    "a = 10  \n",
    "print(type(a))\n",
    "b = \"Hello\"  \n",
    "print(type(b))\n",
    "c = 3.14  \n",
    "print(type(c))\n",
    "d = True \n",
    "print(type(d))\n",
    "e = None\n",
    "print(type(e))\n"
   ]
  },
  {
   "cell_type": "markdown",
   "id": "0e8c6004-129b-4118-b543-d1d84c2bc7e3",
   "metadata": {},
   "source": [
    "### Q5. Convert string \"123\" into integer and perform addition with 7.\n",
    "\n"
   ]
  },
  {
   "cell_type": "code",
   "execution_count": 21,
   "id": "b5966699-9ad0-4e80-aeb2-269ed32b2c6c",
   "metadata": {},
   "outputs": [
    {
     "name": "stdout",
     "output_type": "stream",
     "text": [
      "130\n"
     ]
    }
   ],
   "source": [
    "string=\"123\"\n",
    "num_int=int(string)\n",
    "result= num_int + 7;\n",
    "print(result)\n"
   ]
  },
  {
   "cell_type": "markdown",
   "id": "9cfbb468-6672-4cc9-bd31-2a2f69fe5e6d",
   "metadata": {},
   "source": [
    "### Q6 Write a program using at least 5 different Python keywords.\n",
    "\n",
    "\n"
   ]
  },
  {
   "cell_type": "code",
   "execution_count": null,
   "id": "18ff2a04-4f22-4531-809d-939097f706eb",
   "metadata": {},
   "outputs": [],
   "source": []
  },
  {
   "cell_type": "markdown",
   "id": "48676402-8469-470c-8e97-563468677cbf",
   "metadata": {},
   "source": [
    "### Q7.  Can you use class, def, or for as variable names? Why?"
   ]
  },
  {
   "cell_type": "code",
   "execution_count": null,
   "id": "b285e1c3-2b38-4929-b459-8f2619b543cb",
   "metadata": {},
   "outputs": [],
   "source": []
  },
  {
   "cell_type": "markdown",
   "id": "5868506e-3075-420c-89be-c5f5884bbf8e",
   "metadata": {},
   "source": [
    "### Q8. Write a program that takes two numbers and prints their sum, difference, product, and quotient."
   ]
  },
  {
   "cell_type": "code",
   "execution_count": 34,
   "id": "bcfdbe3e-2049-4bcd-8d46-49081f786a5a",
   "metadata": {},
   "outputs": [
    {
     "name": "stdout",
     "output_type": "stream",
     "text": [
      "Sum of two Num:10\n",
      " diff Of Twp Num:6\n",
      " product Of Two num:16\n",
      "  Quotient Of Two num:4 \n"
     ]
    }
   ],
   "source": [
    "#Add single-line and multi-line comments in your previous program to explain the steps.#\n",
    "\n",
    "a=8\n",
    "b=2\n",
    "print(f\"Sum of two Num:{a+b}\\n diff Of Twp Num:{a-b}\\n product Of Two num:{a*b}\\n  Quotient Of Two num:{a//b} \")"
   ]
  },
  {
   "cell_type": "markdown",
   "id": "821f09cb-8fcc-4633-a0d9-f9d5d85d3369",
   "metadata": {},
   "source": [
    "## Q9 What is the output of the following?"
   ]
  },
  {
   "cell_type": "code",
   "execution_count": 35,
   "id": "5331a13d-823d-4dd9-a313-66396a6a110e",
   "metadata": {},
   "outputs": [
    {
     "name": "stdout",
     "output_type": "stream",
     "text": [
      "25\n",
      "2\n",
      "1\n"
     ]
    }
   ],
   "source": [
    "a=5\n",
    "b=2\n",
    "print( a**b) # Exponentiation Operator \n",
    "print(a //2)\n",
    "print(a % b)"
   ]
  },
  {
   "cell_type": "markdown",
   "id": "d314c16d-d1fc-492d-856e-40e4aee2c7f1",
   "metadata": {
    "scrolled": true
   },
   "source": [
    "### Q10. What will be the result of the following expressions?"
   ]
  },
  {
   "cell_type": "code",
   "execution_count": 37,
   "id": "da49a176-b256-45d4-947d-a5f0555c30bf",
   "metadata": {},
   "outputs": [
    {
     "name": "stdout",
     "output_type": "stream",
     "text": [
      "False\n",
      "True\n",
      "False\n"
     ]
    }
   ],
   "source": [
    "a = True\n",
    "b = False\n",
    "print(a and b)\n",
    "print(a or b)\n",
    "print(not a)\n"
   ]
  },
  {
   "cell_type": "markdown",
   "id": "c689b298-ab03-4723-a340-d6226b02bd76",
   "metadata": {},
   "source": [
    "###  What will be the final value of x?\n",
    "\n"
   ]
  },
  {
   "cell_type": "code",
   "execution_count": 40,
   "id": "7b1c603c-d325-4c34-a62f-07806aabde29",
   "metadata": {},
   "outputs": [
    {
     "name": "stdout",
     "output_type": "stream",
     "text": [
      "15\n",
      "30\n",
      "10\n"
     ]
    }
   ],
   "source": [
    "x = 10\n",
    "x += 5\n",
    "print(x)\n",
    "x *= 2\n",
    "print(x)\n",
    "x //= 3\n",
    "print(x)"
   ]
  },
  {
   "cell_type": "code",
   "execution_count": 41,
   "id": "163912b4-8b45-43f6-9f4c-ef97cef09a96",
   "metadata": {},
   "outputs": [
    {
     "name": "stdout",
     "output_type": "stream",
     "text": [
      "512\n"
     ]
    }
   ],
   "source": [
    "print(2 ** 3 ** 2)\n"
   ]
  },
  {
   "cell_type": "code",
   "execution_count": null,
   "id": "f80b5bae-8830-4ce4-b8f8-7d204eacff11",
   "metadata": {},
   "outputs": [],
   "source": []
  },
  {
   "cell_type": "code",
   "execution_count": null,
   "id": "c9c09839-dcb2-415c-b136-4abe77587a3a",
   "metadata": {},
   "outputs": [],
   "source": []
  },
  {
   "cell_type": "code",
   "execution_count": null,
   "id": "68a6169c-a7ed-420a-a769-33869beedbfa",
   "metadata": {},
   "outputs": [],
   "source": []
  },
  {
   "cell_type": "code",
   "execution_count": null,
   "id": "6b74821b-c57b-4e3f-bc03-ce92d24d75de",
   "metadata": {},
   "outputs": [],
   "source": []
  },
  {
   "cell_type": "code",
   "execution_count": null,
   "id": "a8e6b847-95b9-4384-98e6-82a0846cd9ab",
   "metadata": {},
   "outputs": [],
   "source": []
  },
  {
   "cell_type": "code",
   "execution_count": null,
   "id": "c79a3742-88e0-4260-9daa-fb959c6c4352",
   "metadata": {},
   "outputs": [],
   "source": []
  },
  {
   "cell_type": "code",
   "execution_count": null,
   "id": "6fc512b8-4057-4bc4-a86c-b33e961e10a6",
   "metadata": {},
   "outputs": [],
   "source": []
  },
  {
   "cell_type": "code",
   "execution_count": null,
   "id": "2ef6fa62-6a64-4c5d-a877-7767ac49ec4e",
   "metadata": {},
   "outputs": [],
   "source": []
  },
  {
   "cell_type": "code",
   "execution_count": null,
   "id": "fd5fcb29-7aec-4e9c-a947-9839fd734f7f",
   "metadata": {},
   "outputs": [],
   "source": []
  },
  {
   "cell_type": "code",
   "execution_count": null,
   "id": "8f73ea0d-07ec-4616-86f1-4983df3d849f",
   "metadata": {},
   "outputs": [],
   "source": []
  },
  {
   "cell_type": "code",
   "execution_count": null,
   "id": "a2f31ef0-392e-4acf-81b9-ae4707d21f9d",
   "metadata": {},
   "outputs": [],
   "source": []
  },
  {
   "cell_type": "code",
   "execution_count": null,
   "id": "7a8ced49-1ac0-4c67-852b-69d253bd02e7",
   "metadata": {},
   "outputs": [],
   "source": []
  },
  {
   "cell_type": "code",
   "execution_count": null,
   "id": "3e95d1c7-e302-4ca1-994f-7ed7cf51eb7d",
   "metadata": {},
   "outputs": [],
   "source": []
  },
  {
   "cell_type": "code",
   "execution_count": null,
   "id": "9614adc1-88cc-458f-bf97-ce224ef18243",
   "metadata": {},
   "outputs": [],
   "source": []
  },
  {
   "cell_type": "code",
   "execution_count": null,
   "id": "eea3d1eb-c379-4b04-8da5-b5c7e149ba4d",
   "metadata": {},
   "outputs": [],
   "source": []
  },
  {
   "cell_type": "code",
   "execution_count": null,
   "id": "1a664395-2759-4eec-961c-c11a941cd2c4",
   "metadata": {},
   "outputs": [],
   "source": []
  },
  {
   "cell_type": "code",
   "execution_count": null,
   "id": "d27e791c-b6f9-410f-9659-e89a260273f2",
   "metadata": {},
   "outputs": [],
   "source": []
  },
  {
   "cell_type": "code",
   "execution_count": null,
   "id": "9f1d552f-dd79-49e0-9856-373eaac30414",
   "metadata": {},
   "outputs": [],
   "source": []
  },
  {
   "cell_type": "code",
   "execution_count": null,
   "id": "cb64d48c-7b29-4f3a-a8bb-aed1d1143982",
   "metadata": {},
   "outputs": [],
   "source": []
  },
  {
   "cell_type": "code",
   "execution_count": null,
   "id": "b31afe14-a35f-4c3e-81b9-f796f9f75ddb",
   "metadata": {},
   "outputs": [],
   "source": []
  },
  {
   "cell_type": "code",
   "execution_count": null,
   "id": "e13c5e33-7269-4922-b2af-2c8695488a35",
   "metadata": {},
   "outputs": [],
   "source": []
  },
  {
   "cell_type": "code",
   "execution_count": null,
   "id": "0140cf8f-358b-4180-8f10-268b2176ecbd",
   "metadata": {},
   "outputs": [],
   "source": []
  },
  {
   "cell_type": "code",
   "execution_count": null,
   "id": "555fbc2e-ec31-4142-a903-9e0ff5d323f5",
   "metadata": {},
   "outputs": [],
   "source": []
  },
  {
   "cell_type": "code",
   "execution_count": null,
   "id": "263d6efe-1341-4abc-b0be-15a918d558cb",
   "metadata": {},
   "outputs": [],
   "source": []
  },
  {
   "cell_type": "code",
   "execution_count": null,
   "id": "98fa66a6-7819-4d0a-b88f-9df29ddc0cde",
   "metadata": {},
   "outputs": [],
   "source": []
  },
  {
   "cell_type": "code",
   "execution_count": null,
   "id": "2595afda-3f01-4f36-82e2-c92ac19209a8",
   "metadata": {},
   "outputs": [],
   "source": []
  },
  {
   "cell_type": "code",
   "execution_count": null,
   "id": "d3541de1-78dd-49f8-bb2a-df0fa08d40eb",
   "metadata": {},
   "outputs": [],
   "source": []
  }
 ],
 "metadata": {
  "kernelspec": {
   "display_name": "Python 3 (ipykernel)",
   "language": "python",
   "name": "python3"
  },
  "language_info": {
   "codemirror_mode": {
    "name": "ipython",
    "version": 3
   },
   "file_extension": ".py",
   "mimetype": "text/x-python",
   "name": "python",
   "nbconvert_exporter": "python",
   "pygments_lexer": "ipython3",
   "version": "3.10.11"
  }
 },
 "nbformat": 4,
 "nbformat_minor": 5
}
