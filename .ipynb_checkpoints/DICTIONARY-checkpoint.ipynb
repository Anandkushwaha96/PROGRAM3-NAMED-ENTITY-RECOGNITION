{
 "cells": [
  {
   "cell_type": "markdown",
   "id": "8a130f6a-eb96-46ff-9254-919cc97628bc",
   "metadata": {},
   "source": [
    "#  Method 1: Creating a Dictionary "
   ]
  },
  {
   "cell_type": "code",
   "execution_count": 25,
   "id": "35a92faa-6e4e-4214-8a62-9b76138996cc",
   "metadata": {
    "scrolled": true
   },
   "outputs": [
    {
     "name": "stdout",
     "output_type": "stream",
     "text": [
      "Anand\n"
     ]
    }
   ],
   "source": [
    "#Creating a dictionary\n",
    "my_profile={'Anand':'Anand','age':'25', 'univ':'Centurion University'}\n",
    "print(my_profile['Anand'])"
   ]
  },
  {
   "cell_type": "markdown",
   "id": "65569a9d-4615-4654-bb48-39aa57eab51b",
   "metadata": {},
   "source": [
    "# MEthod 2: Creating a Dictionary"
   ]
  },
  {
   "cell_type": "code",
   "execution_count": 64,
   "id": "dd3952e8-90b0-4380-a727-1d12554095c3",
   "metadata": {
    "scrolled": true
   },
   "outputs": [
    {
     "name": "stdout",
     "output_type": "stream",
     "text": [
      "10\n"
     ]
    }
   ],
   "source": [
    "# Using dict() Constructor\n",
    "my_dict=dict(name='Anand', age=23)\n",
    "my_dict['age']=10 #update\n",
    "\n",
    "print(my_dict['age'])\n",
    "\n"
   ]
  },
  {
   "cell_type": "markdown",
   "id": "46dd1d90-1978-4c82-96a7-4873f62e2740",
   "metadata": {},
   "source": [
    "# Method 3: Creating a Dictionary"
   ]
  },
  {
   "cell_type": "code",
   "execution_count": 65,
   "id": "75aba08d-bba3-492f-8978-87927eafbaa9",
   "metadata": {},
   "outputs": [
    {
     "name": "stdout",
     "output_type": "stream",
     "text": [
      "{'name': 'Anand', 'age': 23, 'country': 'India'}\n"
     ]
    }
   ],
   "source": [
    "#From List of Tuples\n",
    "pairs=[('name','Anand'),('age',23)]\n",
    "my_dict=dict(pairs)\n",
    "my_dict['country']='India'\n",
    "print(my_dict)\n"
   ]
  },
  {
   "cell_type": "markdown",
   "id": "9843e5ec-a754-45a3-bec0-b13dcdf2fc4d",
   "metadata": {},
   "source": [
    "#### Q1.Convert it into a dictionary and print the marks of 'B'.\n",
    "\n"
   ]
  },
  {
   "cell_type": "code",
   "execution_count": 60,
   "id": "551cdc6c-9d1d-4475-976e-ac56e332dbfb",
   "metadata": {
    "scrolled": true
   },
   "outputs": [
    {
     "name": "stdout",
     "output_type": "stream",
     "text": [
      "{'A': 90, 'B': 80, 'C': 95}\n",
      "My data of B is: 80\n",
      "None\n",
      "Not Found\n"
     ]
    }
   ],
   "source": [
    "data = [('A', 90), ('B', 80), ('C', 95)]\n",
    "my_data=dict(data)\n",
    "print(my_data)\n",
    "print(\"My data of B is:\",my_data['B'])\n",
    "print(my_data.get('city'))  #Returns None if key not found\n",
    "print(my_data.get('city', 'Not Found'))   #Default value"
   ]
  },
  {
   "cell_type": "markdown",
   "id": "8dd1183c-4847-4b4e-b5fc-db6479207618",
   "metadata": {},
   "source": [
    "# CONCEPT: Deleting Items"
   ]
  },
  {
   "cell_type": "markdown",
   "id": "d23988be-3b0a-4bde-9b26-6d94a4b2a150",
   "metadata": {},
   "source": [
    "##### ## Remove key and return its value"
   ]
  },
  {
   "cell_type": "code",
   "execution_count": 80,
   "id": "5630e90a-60df-41b0-8c13-018e924d323d",
   "metadata": {},
   "outputs": [
    {
     "name": "stdout",
     "output_type": "stream",
     "text": [
      "{'name': 'Anand', 'age': 21, 'College': 'Centurion University'}\n",
      "After Deletion: {'name': 'Anand', 'College': 'Centurion University'}\n"
     ]
    }
   ],
   "source": [
    "## Remove key and return its value\n",
    "Name={'name':'Anand','age':21,'College':'Centurion University'}\n",
    "print(Name)\n",
    "Removed_value=Name.pop('age')\n",
    "print(\"After Deletion:\",Name)"
   ]
  },
  {
   "cell_type": "markdown",
   "id": "4692a00c-6547-400e-ae4f-17e01809be71",
   "metadata": {},
   "source": [
    "#####  Removes last inserted item (Python 3.7+)"
   ]
  },
  {
   "cell_type": "code",
   "execution_count": 82,
   "id": "e6dde8e5-e824-4ea1-9026-e682cb0da907",
   "metadata": {},
   "outputs": [
    {
     "name": "stdout",
     "output_type": "stream",
     "text": [
      "{'name': 'Anand', 'age': 21, 'College': 'Centurion University'}\n",
      "After Deletion: {'name': 'Anand', 'age': 21}\n"
     ]
    }
   ],
   "source": [
    "# Removes last inserted item (Python 3.7+)\n",
    "Name={'name':'Anand','age':21,'College':'Centurion University'}\n",
    "print(Name)\n",
    "Name.popitem()\n",
    "print(\"After Deletion:\",Name)\n"
   ]
  },
  {
   "cell_type": "markdown",
   "id": "f4c98295-c178-4710-a10b-56bd572dbdd4",
   "metadata": {},
   "source": [
    "####  Delete a key"
   ]
  },
  {
   "cell_type": "code",
   "execution_count": 83,
   "id": "6a6dca23-b386-499c-84ee-d8833a4e142e",
   "metadata": {},
   "outputs": [
    {
     "name": "stdout",
     "output_type": "stream",
     "text": [
      "{'name': 'Anand', 'age': 21, 'College': 'Centurion University'}\n",
      "After Deletion: {'age': 21, 'College': 'Centurion University'}\n"
     ]
    }
   ],
   "source": [
    " # Delete a key\n",
    "Name={'name':'Anand','age':21,'College':'Centurion University'}\n",
    "print(Name)\n",
    "del Name['name'] \n",
    "print(\"After Deletion:\",Name)\n"
   ]
  },
  {
   "cell_type": "markdown",
   "id": "e71a9efd-7be1-4151-a06e-f2fbec56a160",
   "metadata": {},
   "source": [
    "####  Remove all items"
   ]
  },
  {
   "cell_type": "code",
   "execution_count": 84,
   "id": "5dbea192-afaa-4d41-84d8-56d4ccc124b9",
   "metadata": {},
   "outputs": [
    {
     "name": "stdout",
     "output_type": "stream",
     "text": [
      "{'name': 'Anand', 'age': 21, 'College': 'Centurion University'}\n",
      "After Deletion: {}\n"
     ]
    }
   ],
   "source": [
    "Name={'name':'Anand','age':21,'College':'Centurion University'}\n",
    "print(Name)\n",
    "Name.clear()\n",
    "print(\"After Deletion:\",Name)\n"
   ]
  },
  {
   "cell_type": "markdown",
   "id": "ebcc3d82-295f-4856-915a-f58b3415d9e2",
   "metadata": {},
   "source": [
    "#  Dictionary Methods (Most Important)"
   ]
  },
  {
   "cell_type": "markdown",
   "id": "743a03ca-ca3c-4086-9017-331601aba5b7",
   "metadata": {},
   "source": [
    "####  Returns all keys"
   ]
  },
  {
   "cell_type": "code",
   "execution_count": 91,
   "id": "b6562a39-3551-453f-94c3-529bfaa75f24",
   "metadata": {},
   "outputs": [
    {
     "name": "stdout",
     "output_type": "stream",
     "text": [
      "dict_keys(['name', 'Age', 'College'])\n"
     ]
    }
   ],
   "source": [
    "Name={'name':'Anand','Age':21, 'College':'Centurion University'}\n",
    "my_d=dict(Name)\n",
    "print(my_d.keys())\n"
   ]
  },
  {
   "cell_type": "markdown",
   "id": "be1aad8d-e98d-4b90-b5fc-66c45abdb07d",
   "metadata": {},
   "source": [
    "####  Returns all Values "
   ]
  },
  {
   "cell_type": "code",
   "execution_count": 92,
   "id": "178cb28a-647c-4fcb-9f8a-a23a5acef5dd",
   "metadata": {},
   "outputs": [
    {
     "name": "stdout",
     "output_type": "stream",
     "text": [
      "dict_values(['Anand', 21, 'Centurion University'])\n"
     ]
    }
   ],
   "source": [
    "Name={'name':'Anand','Age':21, 'College':'Centurion University'}\n",
    "my_d=dict(Name)\n",
    "print(my_d.values())"
   ]
  },
  {
   "cell_type": "markdown",
   "id": "0d5d693b-0072-46fd-8ef9-6c04338251f2",
   "metadata": {},
   "source": [
    "####  Return all items "
   ]
  },
  {
   "cell_type": "code",
   "execution_count": 93,
   "id": "b9d30006-dabb-4e7e-9393-4b731901ee7b",
   "metadata": {},
   "outputs": [
    {
     "name": "stdout",
     "output_type": "stream",
     "text": [
      "dict_items([('name', 'Anand'), ('Age', 21), ('College', 'Centurion University')])\n"
     ]
    }
   ],
   "source": [
    "Name={'name':'Anand','Age':21, 'College':'Centurion University'}\n",
    "my_d=dict(Name)\n",
    "print(my_d.items())"
   ]
  },
  {
   "cell_type": "code",
   "execution_count": null,
   "id": "dd3803ab-a085-487d-a095-dc6ad4183630",
   "metadata": {},
   "outputs": [],
   "source": [
    " "
   ]
  }
 ],
 "metadata": {
  "kernelspec": {
   "display_name": "Python 3 (ipykernel)",
   "language": "python",
   "name": "python3"
  },
  "language_info": {
   "codemirror_mode": {
    "name": "ipython",
    "version": 3
   },
   "file_extension": ".py",
   "mimetype": "text/x-python",
   "name": "python",
   "nbconvert_exporter": "python",
   "pygments_lexer": "ipython3",
   "version": "3.10.11"
  }
 },
 "nbformat": 4,
 "nbformat_minor": 5
}
