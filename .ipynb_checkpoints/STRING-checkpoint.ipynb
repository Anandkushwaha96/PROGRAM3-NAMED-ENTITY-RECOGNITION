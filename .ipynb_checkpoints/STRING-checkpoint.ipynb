{
 "cells": [
  {
   "cell_type": "markdown",
   "id": "afc1da87-954e-4465-95da-cbcc5d43b86f",
   "metadata": {},
   "source": [
    "# Level 1: Basic String Practice"
   ]
  },
  {
   "cell_type": "markdown",
   "id": "42ab316d-56f2-40a2-af14-40e49321a0f0",
   "metadata": {},
   "source": [
    "### Q1.Count vowels and consonants in a string."
   ]
  },
  {
   "cell_type": "code",
   "execution_count": 11,
   "id": "e6aded60-28b7-4873-bb49-fa08ae29607d",
   "metadata": {},
   "outputs": [
    {
     "name": "stdin",
     "output_type": "stream",
     "text": [
      "Enter Your String: anand kaks\n"
     ]
    },
    {
     "name": "stdout",
     "output_type": "stream",
     "text": [
      "aiou\n"
     ]
    }
   ],
   "source": [
    "str=input(\"Enter Your String:\").lower\n",
    "\n",
    "\n",
    "\n"
   ]
  },
  {
   "cell_type": "code",
   "execution_count": null,
   "id": "76fa9526-e196-41af-8443-b2e83e3e9449",
   "metadata": {},
   "outputs": [],
   "source": []
  },
  {
   "cell_type": "code",
   "execution_count": null,
   "id": "1cdae3dc-0830-44b3-bdde-e9bdeef368e7",
   "metadata": {},
   "outputs": [],
   "source": []
  },
  {
   "cell_type": "code",
   "execution_count": null,
   "id": "5469bf54-79b0-4560-a0be-442bddca3b6a",
   "metadata": {},
   "outputs": [],
   "source": []
  },
  {
   "cell_type": "code",
   "execution_count": null,
   "id": "c24ae1cf-07f0-491f-bf15-2f0c5287b357",
   "metadata": {},
   "outputs": [],
   "source": []
  }
 ],
 "metadata": {
  "kernelspec": {
   "display_name": "Python 3 (ipykernel)",
   "language": "python",
   "name": "python3"
  },
  "language_info": {
   "codemirror_mode": {
    "name": "ipython",
    "version": 3
   },
   "file_extension": ".py",
   "mimetype": "text/x-python",
   "name": "python",
   "nbconvert_exporter": "python",
   "pygments_lexer": "ipython3",
   "version": "3.10.11"
  }
 },
 "nbformat": 4,
 "nbformat_minor": 5
}
