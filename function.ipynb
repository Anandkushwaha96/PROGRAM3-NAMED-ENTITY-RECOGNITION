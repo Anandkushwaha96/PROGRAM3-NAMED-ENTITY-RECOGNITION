{
 "cells": [
  {
   "cell_type": "markdown",
   "id": "45fae94d-5441-41b8-a23d-e2d3485f0ef2",
   "metadata": {},
   "source": [
    "\n",
    "# 🔰 Level 1: Basics (Fundamentals for Data Tasks)\n",
    "🔢 No.\tQuestion\tDAML Use\n",
    "1.\tAdd two numbers\tFeature creation, aggregation\n",
    "2.\tCheck if a number is even/odd\tFeature filtering, data cleaning\n",
    "3.\tMax of 3 numbers\tDecision making logic (e.g. in rule-based models)\n",
    "4.\tSquare of a number\tFeature transformation\n",
    "5.\tCount vowels in string\tText pre-processing\n",
    "6.\tGreet user by name\tUnderstanding string functions\n",
    "7.\tCheck if string is palindrome\tNLP text symmetry check\n",
    "8.\tFactorial of a number\tRecursive thinking (used in tree models)\n",
    "\n",
    "# ⚙️ Level 2: Data-Oriented Functions\n",
    "🔢 No.\tQuestion\tDAML Relevance\n",
    "9.\tSum of all list elements\tBasic aggregation in Pandas/NumPy\n",
    "10.\tEven numbers from list\tData filtering\n",
    "11.\tReverse a string\tText analysis\n",
    "12.\tPrime number check\tPattern-based rules (sometimes used in algo gen.)\n",
    "13.\tFibonacci series\tSequence generation (used in Time Series)\n",
    "14.\tWord count in sentence\tNLP preprocessing\n",
    "15.\tLongest word in string\tFeature selection from text\n",
    "16.\tSecond largest in list\tSorting, ranking based ML features\n",
    "17.\tCelsius to Fahrenheit\tUnit conversion (real-world sensor data use)\n",
    "\n",
    "# 🔢 No.\tQuestion\tDAML Use\n",
    "18.\tUnique elements in list\tSet operations (used in value counts)\n",
    "19.\tFlatten nested list\tData normalization (Data Wrangling)\n",
    "20.\tCount frequency in list\tvalue_counts() mimic, feature engineering\n",
    "21.\tCheck if 2 strings are anagrams\tNLP based comparison\n",
    "22.\tDictionary of squares\tCreating new feature mappings\n",
    "23.\tVariable arguments sum\tUnderstand flexible model input\n",
    "24.\tSort tuples by second item\tData sorting by feature importance\n",
    "25.\tPerfect number check\tLogical reasoning (interview prep logic test)\n",
    "\n",
    "# Bonus DA&ML Focused Function Questions\n",
    "Question\tDAML Skill\n",
    "Write a function to clean special characters from text\tNLP Preprocessing\n",
    "Normalize a list of numbers (Min-Max)\tFeature Scaling\n",
    "Standardize a list (Z-score)\tFeature Engineering\n",
    "Function to read a CSV and return stats\tData Loading + EDA\n",
    "Function to split dataset (X, y)\tPreparing ML input\n",
    "Function to apply condition on Pandas column\tData Transformation\n",
    "Write custom accuracy calculator\tEvaluation Metrics understanding\n",
    "\n",
    "📘 How This Helps in DA&ML?\n",
    "Function Skill\tDAML Benefit\n",
    "Logical thinking\tML Model rules, conditions\n",
    "Text processing\tNLP Tasks\n",
    "List/dictionary handling\tPandas, NumPy, JSON parsing\n",
    "Recursive thinking\tTree algorithms, backtracking\n",
    "Data transformation\tFeature engineering\n",
    "Aggregation, filtering\tData cleaning, EDA"
   ]
  },
  {
   "cell_type": "code",
   "execution_count": 2,
   "id": "ab8dc0e4-a4ad-4926-8829-3c10b553a39a",
   "metadata": {},
   "outputs": [
    {
     "name": "stdout",
     "output_type": "stream",
     "text": [
      "Anand\n"
     ]
    }
   ],
   "source": [
    "#User defined function\n",
    "]def greet(name):\n",
    "    print(name)\n",
    "\n",
    "greet(\"Anand\")\n"
   ]
  },
  {
   "cell_type": "code",
   "execution_count": 9,
   "id": "19a95592-9901-489c-899e-ff28ef810eb8",
   "metadata": {},
   "outputs": [
    {
     "name": "stdout",
     "output_type": "stream",
     "text": [
      "Anand Kumar\n"
     ]
    }
   ],
   "source": [
    "#function with no parameter\n",
    "def say_Hello():\n",
    "    print(\"Anand Kumar\")\n",
    "    \n",
    "say_Hello()"
   ]
  },
  {
   "cell_type": "code",
   "execution_count": 24,
   "id": "37f8bb4e-e2fd-4bcb-87cd-45f3b1b94f86",
   "metadata": {},
   "outputs": [
    {
     "name": "stdout",
     "output_type": "stream",
     "text": [
      "Multiply Of Two Variable: 8\n"
     ]
    }
   ],
   "source": [
    "#Function with Parameter \n",
    "\n",
    "def Multiply(a,b):\n",
    "    print(\"Multiply Of Two Variable:\", a*b)\n",
    "Multiply(4,2)"
   ]
  },
  {
   "cell_type": "code",
   "execution_count": 26,
   "id": "fe2d4181-3c24-41d9-b1e3-189f5792f038",
   "metadata": {},
   "outputs": [
    {
     "name": "stdout",
     "output_type": "stream",
     "text": [
      "Add Two Variable: 14\n",
      "Add Two Variable: 40\n"
     ]
    }
   ],
   "source": [
    "#Default Function\n",
    "\n",
    "def Dekho(x=9, y=5):\n",
    "    print(\"Add Two Variable:\",x+y)\n",
    "Dekho()\n",
    "Dekho(10,30)"
   ]
  },
  {
   "cell_type": "code",
   "execution_count": null,
   "id": "fce34ec7-6f1e-4a62-b1c1-b26cce8747ac",
   "metadata": {},
   "outputs": [],
   "source": []
  }
 ],
 "metadata": {
  "kernelspec": {
   "display_name": "Python 3 (ipykernel)",
   "language": "python",
   "name": "python3"
  },
  "language_info": {
   "codemirror_mode": {
    "name": "ipython",
    "version": 3
   },
   "file_extension": ".py",
   "mimetype": "text/x-python",
   "name": "python",
   "nbconvert_exporter": "python",
   "pygments_lexer": "ipython3",
   "version": "3.10.11"
  }
 },
 "nbformat": 4,
 "nbformat_minor": 5
}
