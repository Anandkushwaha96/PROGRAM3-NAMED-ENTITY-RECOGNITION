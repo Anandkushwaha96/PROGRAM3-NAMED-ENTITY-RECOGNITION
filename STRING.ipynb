{
 "cells": [
  {
   "cell_type": "markdown",
   "id": "afc1da87-954e-4465-95da-cbcc5d43b86f",
   "metadata": {},
   "source": [
    "# Level 1: Basic String Practice"
   ]
  },
  {
   "cell_type": "markdown",
   "id": "42ab316d-56f2-40a2-af14-40e49321a0f0",
   "metadata": {},
   "source": [
    "### Q1 CAPITALIZE METHOD\n"
   ]
  },
  {
   "cell_type": "code",
   "execution_count": 16,
   "id": "e6aded60-28b7-4873-bb49-fa08ae29607d",
   "metadata": {},
   "outputs": [
    {
     "name": "stdout",
     "output_type": "stream",
     "text": [
      "Anand kumar\n"
     ]
    }
   ],
   "source": [
    "s = \"anAND KUMaR\"\n",
    "print(s.capitalize())   # Output: \"Hello world\"\n",
    "\n",
    "\n",
    "\n"
   ]
  },
  {
   "cell_type": "markdown",
   "id": "d1045239-6dea-4de3-9626-ff1e79a4aa84",
   "metadata": {},
   "source": [
    "### Q2 LOWER METHOD"
   ]
  },
  {
   "cell_type": "code",
   "execution_count": 19,
   "id": "1cdae3dc-0830-44b3-bdde-e9bdeef368e7",
   "metadata": {
    "scrolled": true
   },
   "outputs": [
    {
     "name": "stdout",
     "output_type": "stream",
     "text": [
      "nnand kumar\n"
     ]
    }
   ],
   "source": [
    "s=\"nNAND KUMAR\" #Converts case\n",
    "print(s.lower())"
   ]
  },
  {
   "cell_type": "markdown",
   "id": "91adcc10-92b6-466c-86b5-9cbdf49fbcde",
   "metadata": {},
   "source": [
    "### Q3  UPPER METHOD "
   ]
  },
  {
   "cell_type": "code",
   "execution_count": 20,
   "id": "c24ae1cf-07f0-491f-bf15-2f0c5287b357",
   "metadata": {},
   "outputs": [
    {
     "name": "stdout",
     "output_type": "stream",
     "text": [
      "ANAND KUMAR\n"
     ]
    }
   ],
   "source": [
    "str=\"anand kumar\"   #Converts case\n",
    "print(str.upper())"
   ]
  },
  {
   "cell_type": "markdown",
   "id": "fc8d21f7-6424-4adf-b449-723f55064889",
   "metadata": {},
   "source": [
    "### Q4  CENTER METHOD"
   ]
  },
  {
   "cell_type": "code",
   "execution_count": 22,
   "id": "472355eb-c90f-4162-acfa-9b54d1696d6d",
   "metadata": {},
   "outputs": [
    {
     "name": "stdout",
     "output_type": "stream",
     "text": [
      "**ANAND KUMAR**\n"
     ]
    }
   ],
   "source": [
    "str=\"ANAND KUMAR\"\n",
    "print(str.center(15,\"*\"))"
   ]
  },
  {
   "cell_type": "markdown",
   "id": "f5990ab8-0c4f-4dc8-a3eb-f4cf4d02beaa",
   "metadata": {},
   "source": [
    "### Q5. COUNT METHOD"
   ]
  },
  {
   "cell_type": "code",
   "execution_count": 26,
   "id": "7cd7d3a3-ce5d-4a99-b82a-00b16705e722",
   "metadata": {},
   "outputs": [
    {
     "name": "stdout",
     "output_type": "stream",
     "text": [
      "4\n"
     ]
    }
   ],
   "source": [
    "str=\"Anandkummmnnnnnnmr\"\n",
    "print(str.count('m'))"
   ]
  },
  {
   "cell_type": "markdown",
   "id": "7c1c5490-2d0e-4d12-8198-5b4ea519d64d",
   "metadata": {},
   "source": [
    "### Q6 INDEX METHOD"
   ]
  },
  {
   "cell_type": "code",
   "execution_count": 29,
   "id": "33531d00-9a0e-4dfc-902f-6b32b4723b26",
   "metadata": {},
   "outputs": [
    {
     "name": "stdout",
     "output_type": "stream",
     "text": [
      "16\n"
     ]
    }
   ],
   "source": [
    "str=\"Anand kUmar Raj P\"\n",
    "print(str.index(\"P\"))"
   ]
  },
  {
   "cell_type": "markdown",
   "id": "c00ca2c1-0349-43ef-b898-83ae1a575117",
   "metadata": {},
   "source": [
    "### Q7 FIND METHOD"
   ]
  },
  {
   "cell_type": "code",
   "execution_count": 30,
   "id": "2fc52585-045c-421d-8d48-bbe4c551c615",
   "metadata": {},
   "outputs": [
    {
     "name": "stdout",
     "output_type": "stream",
     "text": [
      "6\n"
     ]
    }
   ],
   "source": [
    "str=\"Anand Kumar \"\n",
    "print(str.find(\"K\"))"
   ]
  },
  {
   "cell_type": "markdown",
   "id": "e26e957e-6c32-41ad-829b-a6536bcc8a1b",
   "metadata": {},
   "source": [
    "### Q8. REPLACE METHOD"
   ]
  },
  {
   "cell_type": "code",
   "execution_count": 31,
   "id": "d325e28a-f41d-4944-898e-d7c317659a2c",
   "metadata": {},
   "outputs": [
    {
     "name": "stdout",
     "output_type": "stream",
     "text": [
      "14-09-25\n"
     ]
    }
   ],
   "source": [
    "str='14/09/25'\n",
    "print(str.replace('/' , '-'))"
   ]
  },
  {
   "cell_type": "markdown",
   "id": "8b826067-719c-4f3e-b3d4-9f1c51bba496",
   "metadata": {},
   "source": [
    "### Q9 SPLIT METHOD\n",
    "#Breaks string into list"
   ]
  },
  {
   "cell_type": "code",
   "execution_count": 33,
   "id": "c1d0bbc4-4772-4481-9b0b-ea7b329cf559",
   "metadata": {},
   "outputs": [
    {
     "name": "stdout",
     "output_type": "stream",
     "text": [
      "['12', '03', '67']\n"
     ]
    }
   ],
   "source": [
    "str=\"12/03/67\"       #Breaks string into list\n",
    "print(str.split(\"/\"))"
   ]
  },
  {
   "cell_type": "code",
   "execution_count": 37,
   "id": "4f35701b-b03a-40de-9656-410c1c9038f1",
   "metadata": {
    "scrolled": true
   },
   "outputs": [
    {
     "name": "stdout",
     "output_type": "stream",
     "text": [
      "True\n"
     ]
    }
   ],
   "source": [
    "str=\"ana3444ndkumar\"\n",
    "print(str.isalnum())"
   ]
  },
  {
   "cell_type": "code",
   "execution_count": 40,
   "id": "6bdab56b-a0e9-4fa1-9ea3-475578aafa20",
   "metadata": {
    "scrolled": true
   },
   "outputs": [
    {
     "name": "stdout",
     "output_type": "stream",
     "text": [
      "True\n"
     ]
    }
   ],
   "source": [
    "str=\"7890\"\n",
    "print(str.isnumeric())"
   ]
  },
  {
   "cell_type": "markdown",
   "id": "38c140ad-b97c-408d-b838-15149ce511df",
   "metadata": {},
   "source": [
    "### Q10. StartWith method  \n",
    "#Checks if string starts with a pattern"
   ]
  },
  {
   "cell_type": "code",
   "execution_count": 43,
   "id": "6999f484-087d-4318-8c9b-23cac54e6a8b",
   "metadata": {},
   "outputs": [
    {
     "name": "stdout",
     "output_type": "stream",
     "text": [
      "True\n"
     ]
    }
   ],
   "source": [
    "str=\"Anand\"   #\n",
    "print(str.startswith(\"A\"))"
   ]
  },
  {
   "cell_type": "markdown",
   "id": "aff7ffee-e694-4179-8b3d-332424248232",
   "metadata": {},
   "source": [
    "### Q11 .join METHOD\n",
    "#Combines list elements into string"
   ]
  },
  {
   "cell_type": "code",
   "execution_count": null,
   "id": "e4670bdf-4bc5-41a7-a3e8-dc74fa6ca5cc",
   "metadata": {},
   "outputs": [],
   "source": [
    "### "
   ]
  },
  {
   "cell_type": "markdown",
   "id": "1afedacf-7b1e-494c-aa9e-19a9d19eec96",
   "metadata": {},
   "source": [
    "### Q12. in keyword\n",
    "#Checks if substring exists"
   ]
  },
  {
   "cell_type": "code",
   "execution_count": 46,
   "id": "dc6d02ee-c21d-4b23-9542-d9fbd767f373",
   "metadata": {},
   "outputs": [
    {
     "name": "stdout",
     "output_type": "stream",
     "text": [
      "True\n"
     ]
    }
   ],
   "source": [
    "str=\"Anandkumar\"\n",
    "print(\"kumar\" in str)"
   ]
  },
  {
   "cell_type": "markdown",
   "id": "dbe18227-5c57-489e-b1a4-98ce2c4e33d8",
   "metadata": {},
   "source": [
    "### Q13. STRIP METHOD\n",
    "#Removes leading/trailing whitespace"
   ]
  },
  {
   "cell_type": "code",
   "execution_count": 47,
   "id": "8efaf53a-5eb1-471c-91f0-7936004a4834",
   "metadata": {},
   "outputs": [
    {
     "name": "stdout",
     "output_type": "stream",
     "text": [
      "anand     kumar\n"
     ]
    }
   ],
   "source": [
    "str=\"anand     kumar\"\n",
    "print(str.strip())"
   ]
  },
  {
   "cell_type": "code",
   "execution_count": null,
   "id": "bd08eb4c-ebc8-406f-811c-f2d13a6e4532",
   "metadata": {},
   "outputs": [],
   "source": []
  },
  {
   "cell_type": "code",
   "execution_count": null,
   "id": "7095cf86-d1a0-489a-9225-f875e7e85021",
   "metadata": {},
   "outputs": [],
   "source": []
  },
  {
   "cell_type": "code",
   "execution_count": null,
   "id": "3719250f-6377-44aa-aca7-bc2971aeed0e",
   "metadata": {},
   "outputs": [],
   "source": []
  },
  {
   "cell_type": "code",
   "execution_count": null,
   "id": "95298fad-061e-456d-93d9-dcdc212fbbc7",
   "metadata": {},
   "outputs": [],
   "source": []
  },
  {
   "cell_type": "code",
   "execution_count": null,
   "id": "2570c26c-801b-4220-a473-406d9c64e899",
   "metadata": {},
   "outputs": [],
   "source": []
  },
  {
   "cell_type": "code",
   "execution_count": null,
   "id": "fda581cd-145b-4685-97e4-36198bf75de9",
   "metadata": {},
   "outputs": [],
   "source": []
  },
  {
   "cell_type": "code",
   "execution_count": null,
   "id": "22e09cdf-0113-4961-8ef2-eb122c761e71",
   "metadata": {},
   "outputs": [],
   "source": []
  },
  {
   "cell_type": "code",
   "execution_count": null,
   "id": "95b17f73-dda9-481b-98fa-54bcea444557",
   "metadata": {},
   "outputs": [],
   "source": []
  },
  {
   "cell_type": "code",
   "execution_count": null,
   "id": "066037af-8c10-4cf3-b19f-c3b04961a92e",
   "metadata": {},
   "outputs": [],
   "source": []
  },
  {
   "cell_type": "code",
   "execution_count": null,
   "id": "3aaea361-6f41-4152-a4d0-0cc855e32fa2",
   "metadata": {},
   "outputs": [],
   "source": []
  },
  {
   "cell_type": "code",
   "execution_count": null,
   "id": "28a96cb1-072b-4634-81b7-10ba7b4461e3",
   "metadata": {},
   "outputs": [],
   "source": []
  },
  {
   "cell_type": "code",
   "execution_count": null,
   "id": "6cfc7b8c-5c79-40e9-ae22-e3324ac3ae24",
   "metadata": {},
   "outputs": [],
   "source": []
  },
  {
   "cell_type": "code",
   "execution_count": null,
   "id": "43ef389b-f96f-48d2-b564-23ca08e51645",
   "metadata": {},
   "outputs": [],
   "source": []
  },
  {
   "cell_type": "code",
   "execution_count": null,
   "id": "b471ba14-85d0-4260-9e36-69740e6db861",
   "metadata": {},
   "outputs": [],
   "source": []
  },
  {
   "cell_type": "code",
   "execution_count": null,
   "id": "bbbd9981-0da5-4687-8685-471334b3716e",
   "metadata": {},
   "outputs": [],
   "source": []
  },
  {
   "cell_type": "code",
   "execution_count": null,
   "id": "5c0c9b58-6b77-4648-805a-214b100c9474",
   "metadata": {},
   "outputs": [],
   "source": []
  },
  {
   "cell_type": "code",
   "execution_count": null,
   "id": "c647ee20-8d6c-4a2c-adb7-e383d684a3f0",
   "metadata": {},
   "outputs": [],
   "source": []
  },
  {
   "cell_type": "code",
   "execution_count": null,
   "id": "2f4821a2-ebd7-43b0-b075-4df02b9d2932",
   "metadata": {},
   "outputs": [],
   "source": []
  },
  {
   "cell_type": "code",
   "execution_count": null,
   "id": "48049454-2498-4425-965d-b99acf3b1204",
   "metadata": {},
   "outputs": [],
   "source": []
  },
  {
   "cell_type": "code",
   "execution_count": null,
   "id": "440d08f3-9531-4d68-9412-8fffa3de9924",
   "metadata": {},
   "outputs": [],
   "source": []
  },
  {
   "cell_type": "code",
   "execution_count": null,
   "id": "94d4a4a5-678d-4dde-b920-494096e5a356",
   "metadata": {},
   "outputs": [],
   "source": []
  },
  {
   "cell_type": "code",
   "execution_count": null,
   "id": "25760154-2d3d-4466-b272-c1d1a51b4427",
   "metadata": {},
   "outputs": [],
   "source": []
  },
  {
   "cell_type": "code",
   "execution_count": null,
   "id": "e59fe26c-f47d-4e96-986a-e49ae579ab36",
   "metadata": {},
   "outputs": [],
   "source": []
  },
  {
   "cell_type": "code",
   "execution_count": null,
   "id": "ff6e4c2e-79f5-41a3-b224-acdbccae4a65",
   "metadata": {},
   "outputs": [],
   "source": []
  },
  {
   "cell_type": "code",
   "execution_count": null,
   "id": "ad682db7-951d-4e59-8782-6a9efdae4874",
   "metadata": {},
   "outputs": [],
   "source": []
  },
  {
   "cell_type": "code",
   "execution_count": null,
   "id": "a95abb28-56a7-4fb5-98c8-0f37d37d92ad",
   "metadata": {},
   "outputs": [],
   "source": []
  },
  {
   "cell_type": "code",
   "execution_count": null,
   "id": "d07152ac-8201-40f8-b6c6-f28c6b4922f4",
   "metadata": {},
   "outputs": [],
   "source": []
  },
  {
   "cell_type": "code",
   "execution_count": null,
   "id": "a0484de2-9e69-4b9d-b97e-4fe7916ed43d",
   "metadata": {},
   "outputs": [],
   "source": []
  },
  {
   "cell_type": "code",
   "execution_count": null,
   "id": "073d1618-087f-45ad-88d9-938cd64df376",
   "metadata": {},
   "outputs": [],
   "source": []
  },
  {
   "cell_type": "code",
   "execution_count": null,
   "id": "5681471e-f93b-45a9-b457-60120bac844a",
   "metadata": {},
   "outputs": [],
   "source": []
  },
  {
   "cell_type": "code",
   "execution_count": null,
   "id": "f9d36a24-2143-40ee-95c8-bd36ebbb547e",
   "metadata": {},
   "outputs": [],
   "source": []
  },
  {
   "cell_type": "code",
   "execution_count": null,
   "id": "19ca8979-00d6-451e-9125-f7324147d2a6",
   "metadata": {},
   "outputs": [],
   "source": []
  },
  {
   "cell_type": "code",
   "execution_count": null,
   "id": "c95df10e-d342-4286-9906-74124e5cd665",
   "metadata": {},
   "outputs": [],
   "source": []
  },
  {
   "cell_type": "code",
   "execution_count": null,
   "id": "6d634d54-9861-4841-b06d-9ad0752d7b8b",
   "metadata": {},
   "outputs": [],
   "source": []
  },
  {
   "cell_type": "code",
   "execution_count": null,
   "id": "7b8f04be-8db3-41ca-890f-c8a4a967b832",
   "metadata": {},
   "outputs": [],
   "source": []
  },
  {
   "cell_type": "code",
   "execution_count": null,
   "id": "5b3e911e-bcc8-44ab-a13a-e10247170c2e",
   "metadata": {},
   "outputs": [],
   "source": []
  },
  {
   "cell_type": "code",
   "execution_count": null,
   "id": "81f49506-fe83-4101-9f0f-21f31081cf10",
   "metadata": {},
   "outputs": [],
   "source": []
  },
  {
   "cell_type": "code",
   "execution_count": null,
   "id": "c14e465c-7690-4a17-b35e-7977974942e5",
   "metadata": {},
   "outputs": [],
   "source": []
  },
  {
   "cell_type": "code",
   "execution_count": null,
   "id": "edd0fb8e-6a99-446c-bad7-452bdce8e97b",
   "metadata": {},
   "outputs": [],
   "source": []
  },
  {
   "cell_type": "code",
   "execution_count": null,
   "id": "a2da9cde-985e-48bd-8107-3aae4f30045c",
   "metadata": {},
   "outputs": [],
   "source": []
  },
  {
   "cell_type": "code",
   "execution_count": null,
   "id": "e8665065-01b9-45d6-be7b-69cf2c9b6902",
   "metadata": {},
   "outputs": [],
   "source": []
  },
  {
   "cell_type": "code",
   "execution_count": null,
   "id": "c3f939ce-fb21-43b4-a022-e8456193d2f7",
   "metadata": {},
   "outputs": [],
   "source": []
  },
  {
   "cell_type": "code",
   "execution_count": null,
   "id": "1421a09a-bacb-40e2-8d28-6079e870fed2",
   "metadata": {},
   "outputs": [],
   "source": []
  },
  {
   "cell_type": "code",
   "execution_count": null,
   "id": "0dd5765f-4e4a-4b35-b3a4-d7aea175ca5a",
   "metadata": {},
   "outputs": [],
   "source": []
  },
  {
   "cell_type": "code",
   "execution_count": null,
   "id": "fb4e00df-232c-48c5-9e78-5bf3ae7c1da7",
   "metadata": {},
   "outputs": [],
   "source": []
  },
  {
   "cell_type": "code",
   "execution_count": null,
   "id": "dbca90f1-725d-43e3-8a7a-f56a77cd7664",
   "metadata": {},
   "outputs": [],
   "source": []
  },
  {
   "cell_type": "code",
   "execution_count": null,
   "id": "939ee004-5dc0-4b6c-a6ec-670db90736f0",
   "metadata": {},
   "outputs": [],
   "source": []
  },
  {
   "cell_type": "code",
   "execution_count": null,
   "id": "063bc0a6-415b-47ba-81f8-a40d58dd0fe2",
   "metadata": {},
   "outputs": [],
   "source": []
  },
  {
   "cell_type": "code",
   "execution_count": null,
   "id": "b46eb4e4-d4ff-474f-8927-6795d68c112e",
   "metadata": {},
   "outputs": [],
   "source": []
  },
  {
   "cell_type": "code",
   "execution_count": null,
   "id": "5e066426-e3b1-4c91-9442-ebd396bd8d40",
   "metadata": {},
   "outputs": [],
   "source": []
  },
  {
   "cell_type": "code",
   "execution_count": null,
   "id": "c26e9c00-3ba8-4d75-909a-2834e17008c3",
   "metadata": {},
   "outputs": [],
   "source": []
  },
  {
   "cell_type": "code",
   "execution_count": null,
   "id": "0f40e993-e3f8-4a8a-b243-7d5ad8ec4ea6",
   "metadata": {},
   "outputs": [],
   "source": []
  },
  {
   "cell_type": "code",
   "execution_count": null,
   "id": "745c72f5-8a32-4a6a-a1e9-f89f2f888933",
   "metadata": {},
   "outputs": [],
   "source": []
  },
  {
   "cell_type": "code",
   "execution_count": null,
   "id": "e7407134-5885-4a18-9bd9-6580857b7fd2",
   "metadata": {},
   "outputs": [],
   "source": []
  },
  {
   "cell_type": "code",
   "execution_count": null,
   "id": "f7512e87-1010-4412-8654-496f9b01d6b9",
   "metadata": {},
   "outputs": [],
   "source": []
  },
  {
   "cell_type": "code",
   "execution_count": null,
   "id": "73176028-f503-4069-b009-95bce0faf20b",
   "metadata": {},
   "outputs": [],
   "source": []
  },
  {
   "cell_type": "code",
   "execution_count": null,
   "id": "b9033244-ac82-4a7b-95d7-9c2ca016e10d",
   "metadata": {},
   "outputs": [],
   "source": []
  },
  {
   "cell_type": "code",
   "execution_count": null,
   "id": "e1008faa-112c-4335-94a9-008a09ce9529",
   "metadata": {},
   "outputs": [],
   "source": []
  },
  {
   "cell_type": "code",
   "execution_count": null,
   "id": "06953a48-ac1b-4299-a2dc-7cc1a6de496a",
   "metadata": {},
   "outputs": [],
   "source": []
  },
  {
   "cell_type": "code",
   "execution_count": null,
   "id": "67293f4c-ff53-4a0b-86ac-42364fec6b24",
   "metadata": {},
   "outputs": [],
   "source": []
  },
  {
   "cell_type": "code",
   "execution_count": null,
   "id": "db0696fb-473d-4eef-b0a3-8c0f542335ba",
   "metadata": {},
   "outputs": [],
   "source": []
  },
  {
   "cell_type": "code",
   "execution_count": null,
   "id": "072b97ef-46f7-4a71-b867-7443123a2631",
   "metadata": {},
   "outputs": [],
   "source": []
  },
  {
   "cell_type": "code",
   "execution_count": null,
   "id": "f3f4f278-f7eb-4301-b2fa-2d2fa33dde2a",
   "metadata": {},
   "outputs": [],
   "source": []
  },
  {
   "cell_type": "code",
   "execution_count": null,
   "id": "b5fac340-9e4d-42a6-b1fc-f32bfa716911",
   "metadata": {},
   "outputs": [],
   "source": []
  },
  {
   "cell_type": "code",
   "execution_count": null,
   "id": "26672ce3-9c2e-4d30-adcd-05ba3a506f14",
   "metadata": {},
   "outputs": [],
   "source": []
  },
  {
   "cell_type": "code",
   "execution_count": null,
   "id": "b8ac7394-3810-4021-b4d5-3f208a51863a",
   "metadata": {},
   "outputs": [],
   "source": []
  },
  {
   "cell_type": "code",
   "execution_count": null,
   "id": "e12db89b-094c-4583-99b5-de71f3458f84",
   "metadata": {},
   "outputs": [],
   "source": []
  },
  {
   "cell_type": "code",
   "execution_count": null,
   "id": "ae24cd3b-f83c-42ac-b56f-b079a3050ae8",
   "metadata": {},
   "outputs": [],
   "source": []
  },
  {
   "cell_type": "code",
   "execution_count": null,
   "id": "37be9833-2d0a-4dde-80bc-bf369b9a3393",
   "metadata": {},
   "outputs": [],
   "source": []
  },
  {
   "cell_type": "code",
   "execution_count": null,
   "id": "e938308e-7a3d-4d8f-bb18-9cc9aa735a87",
   "metadata": {},
   "outputs": [],
   "source": []
  },
  {
   "cell_type": "code",
   "execution_count": null,
   "id": "63fabe90-6f48-40ee-bca6-bdd758aac2c4",
   "metadata": {},
   "outputs": [],
   "source": []
  }
 ],
 "metadata": {
  "kernelspec": {
   "display_name": "Python 3 (ipykernel)",
   "language": "python",
   "name": "python3"
  },
  "language_info": {
   "codemirror_mode": {
    "name": "ipython",
    "version": 3
   },
   "file_extension": ".py",
   "mimetype": "text/x-python",
   "name": "python",
   "nbconvert_exporter": "python",
   "pygments_lexer": "ipython3",
   "version": "3.10.11"
  }
 },
 "nbformat": 4,
 "nbformat_minor": 5
}
