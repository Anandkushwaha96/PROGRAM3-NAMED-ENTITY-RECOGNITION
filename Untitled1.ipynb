{
 "cells": [
  {
   "cell_type": "markdown",
   "id": "2b0c801d-34a6-4dd0-82c4-c97984f59393",
   "metadata": {},
   "source": [
    "# ✅ Level 1: Basic String Practice\n",
    " Count vowels and consonants in a string.\n",
    "\n",
    " Check if a string is a palindrome (e.g., \"madam\").\n",
    "\n",
    " Count the number of words in a sentence.\n",
    "\n",
    "Convert \"Machine Learning is fun\" to 'machine_learning_is_fun'.\n",
    "\n",
    "Replace all spaces in a string with -.\n",
    "\n",
    "Extract first and last character from the string.\n",
    "\n",
    "Check if the string contains only alphabets.\n",
    "\n",
    "Remove all digits from the string.\n",
    "\n",
    "Take a string input and print it in reverse order.\n",
    "\n",
    "Convert \"Welcome To DAML\" to all lowercase.\n",
    "\n",
    "# ✅ Level 2: Intermediate Logic Practice\n",
    "Write a function to capitalize the first letter of each word.\n",
    "\n",
    "Check if the string starts and ends with the same character.\n",
    "\n",
    "Count the frequency of each character in a string.\n",
    "\n",
    "Remove duplicate characters from a string.\n",
    "\n",
    "Find the longest word in a sentence.\n",
    "\n",
    "Sort all characters in a string alphabetically.\n",
    "\n",
    "Check if two strings are anagrams (e.g., \"listen\" and \"silent\").\n",
    "\n",
    "Print all substrings of a string (e.g., \"abc\" → a, ab, abc, b, bc, c).\n",
    "\n",
    "Count how many times the word \"data\" appears in a paragraph.\n",
    "\n",
    "Remove punctuation from a sentence.\n",
    "\n",
    "# ✅ Level 3: DAML-Oriented Real-World Tasks\n",
    "Extract domain name from an email (abc@gmail.com → gmail.com).\n",
    "\n",
    "Given a list of reviews, find which ones contain the word \"good\".\n",
    "\n",
    "Write a function to clean a sentence:\n",
    "\n",
    "Remove digits\n",
    "\n",
    "Lowercase everything\n",
    "\n",
    "Remove extra spaces\n",
    "\n",
    "Detect if a sentence contains spam keywords like \"win\", \"free\", \"money\".\n",
    "\n",
    "Split a CSV string like \"John,23,Data Analyst\" into separate values.\n",
    "\n",
    "Clean a dataset column: convert \"N/A\", \"na\", \"null\" into \"missing\".\n",
    "\n",
    "Write a function to mask email addresses (e.g., a*@gmail.com).\n",
    "\n",
    "Write a tokenizer: split paragraph into sentences and then words.\n",
    "\n",
    "From a sentence, extract all numbers and return their sum.\n",
    "\n",
    "Build a Python script to read a .txt file and count the frequency of each word."
   ]
  },
  {
   "cell_type": "markdown",
   "id": "968ef482-41ab-440e-a414-e07e6d5489c7",
   "metadata": {},
   "source": [
    "### Q1. Count vowels and consonants in a string."
   ]
  },
  {
   "cell_type": "code",
   "execution_count": 55,
   "id": "ac8c0c49-d207-43dc-8459-23db06b3cfc9",
   "metadata": {},
   "outputs": [
    {
     "name": "stdin",
     "output_type": "stream",
     "text": [
      "Enter string here : asdfghjkl\n"
     ]
    },
    {
     "name": "stdout",
     "output_type": "stream",
     "text": [
      "Total vowel is: 1\n",
      "Total consonant is: 8\n"
     ]
    }
   ],
   "source": [
    "text= input(\"Enter string here :\")\n",
    "text= text.lower()\n",
    "\n",
    "vowelcount = 0\n",
    "Consonant = 0\n",
    "vowel_set = \"aeiou\"\n",
    "\n",
    "for char in text:\n",
    "    if char.isalpha():\n",
    "        if char in vowel_set:\n",
    "            vowelcount+=1\n",
    "        else:\n",
    "            Consonant+=1\n",
    "            \n",
    "print(\"Total vowel is:\", vowelcount)\n",
    "print(\"Total consonant is:\", Consonant)\n"
   ]
  },
  {
   "cell_type": "markdown",
   "id": "b4e46e92-b34c-45e9-9cd1-78a22345e7a8",
   "metadata": {},
   "source": [
    "### Q2. Check if a string is a palindrome (e.g., \"madam\")."
   ]
  },
  {
   "cell_type": "code",
   "execution_count": 52,
   "id": "d73f7f3d-4373-41b1-a611-4b8949fa28a6",
   "metadata": {},
   "outputs": [
    {
     "name": "stdin",
     "output_type": "stream",
     "text": [
      "ENTER YOUR STRING HERE : reverse\n"
     ]
    },
    {
     "name": "stdout",
     "output_type": "stream",
     "text": [
      "it is not Palindrome\n"
     ]
    }
   ],
   "source": [
    "str=input(\"ENTER YOUR STRING HERE :\")\n",
    "if str==str[::-1]:\n",
    "    print(\"it is palindrome\")\n",
    "else:\n",
    "    print(\"it is not Palindrome\")"
   ]
  },
  {
   "cell_type": "markdown",
   "id": "1e617060-d947-4735-bc72-66ecf45667f7",
   "metadata": {},
   "source": [
    "### Q5. Count the number of words in a sentence."
   ]
  },
  {
   "cell_type": "code",
   "execution_count": null,
   "id": "3ca0c1a7-89c5-4589-99d6-8a0728d73cb3",
   "metadata": {},
   "outputs": [],
   "source": []
  },
  {
   "cell_type": "code",
   "execution_count": null,
   "id": "19e9da17-b984-455f-8f1a-329fc38083b0",
   "metadata": {},
   "outputs": [],
   "source": []
  }
 ],
 "metadata": {
  "kernelspec": {
   "display_name": "Python 3 (ipykernel)",
   "language": "python",
   "name": "python3"
  },
  "language_info": {
   "codemirror_mode": {
    "name": "ipython",
    "version": 3
   },
   "file_extension": ".py",
   "mimetype": "text/x-python",
   "name": "python",
   "nbconvert_exporter": "python",
   "pygments_lexer": "ipython3",
   "version": "3.10.11"
  }
 },
 "nbformat": 4,
 "nbformat_minor": 5
}
