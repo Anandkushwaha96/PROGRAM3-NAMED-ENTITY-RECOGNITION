{
 "cells": [
  {
   "cell_type": "markdown",
   "id": "746a94a4-bcb9-4ae7-8030-e10ec4032c4e",
   "metadata": {},
   "source": [
    "# ✅ Level 1: Basic String Practice\n",
    "Count vowels and consonants in a string.\n",
    "\n",
    "Check if a string is a palindrome (e.g., \"madam\").\n",
    "\n",
    "Count the number of words in a sentence.\n",
    "\n",
    "Convert \"Machine Learning is fun\" to 'machine_learning_is_fun'.\n",
    "\n",
    "Replace all spaces in a string with -.\n",
    "\n",
    "Extract first and last character from the string.\n",
    "\n",
    "Check if the string contains only alphabets.\n",
    "\n",
    "Remove all digits from the string.\n",
    "\n",
    "Take a string input and print it in reverse order.\n",
    "\n",
    "Convert \"Welcome To DAML\" to all lowercase.\n",
    "\n",
    "# ✅ Level 2: Intermediate Logic Practice\n",
    "Write a function to capitalize the first letter of each word.\n",
    "\n",
    "Check if the string starts and ends with the same character.\n",
    "\n",
    "Count the frequency of each character in a string.\n",
    "\n",
    "Remove duplicate characters from a string.\n",
    "\n",
    "Find the longest word in a sentence.\n",
    "\n",
    "Sort all characters in a string alphabetically.\n",
    "\n",
    "Check if two strings are anagrams (e.g., \"listen\" and \"silent\").\n",
    "\n",
    "Print all substrings of a string (e.g., \"abc\" → a, ab, abc, b, bc, c).\n",
    "\n",
    "Count how many times the word \"data\" appears in a paragraph.\n",
    "\n",
    "Remove punctuation from a sentence.\n",
    "\n",
    "# ✅ Level 3: DAML-Oriented Real-World Tasks\n",
    "Extract domain name from an email (abc@gmail.com → gmail.com).\n",
    "\n",
    "Given a list of reviews, find which ones contain the word \"good\".\n",
    "\n",
    "Write a function to clean a sentence:\n",
    "\n",
    "Remove digits\n",
    "\n",
    "Lowercase everything\n",
    "\n",
    "Remove extra spaces\n",
    "\n",
    "Detect if a sentence contains spam keywords like \"win\", \"free\", \"money\".\n",
    "\n",
    "Split a CSV string like \"John,23,Data Analyst\" into separate values.\n",
    "\n",
    "Clean a dataset column: convert \"N/A\", \"na\", \"null\" into \"missing\".\n",
    "\n",
    "Write a function to mask email addresses (e.g., a*@gmail.com).\n",
    "\n",
    "Write a tokenizer: split paragraph into sentences and then words.\n",
    "\n",
    "From a sentence, extract all numbers and return their sum.\n",
    "\n",
    "Build a Python script to read a .txt file and count the frequency of each word."
   ]
  },
  {
   "cell_type": "markdown",
   "id": "e0a944df-503c-443b-980d-4f4a56dd7e16",
   "metadata": {},
   "source": [
    "# ✅ Level 1: Basic String Practice"
   ]
  },
  {
   "cell_type": "markdown",
   "id": "6c89916a-cc62-4ad9-9743-46abbf8cc68d",
   "metadata": {},
   "source": [
    "#### Q1. Count vowels and consonants in a string."
   ]
  },
  {
   "cell_type": "code",
   "execution_count": 1,
   "id": "248123b8-0746-4da7-a780-89b9a91b3a4a",
   "metadata": {},
   "outputs": [
    {
     "name": "stdin",
     "output_type": "stream",
     "text": [
      "Enter Your String Here: asdfghjkl\n"
     ]
    },
    {
     "name": "stdout",
     "output_type": "stream",
     "text": [
      "Number OF Vowel: 1\n",
      "Number Of Consonant: 8\n"
     ]
    }
   ],
   "source": [
    "str=input(\"Enter Your String Here:\")\n",
    "str=str.lower()\n",
    "\n",
    "vowelCount=0\n",
    "consonantCount=0\n",
    "vowel_set=\"aeiou\"\n",
    "\n",
    "for char in str:\n",
    "    if char.isalpha():\n",
    "        if char in vowel_set:\n",
    "            vowelCount+=1\n",
    "        else:\n",
    "            consonantCount+=1\n",
    "\n",
    "print(\"Number OF Vowel:\", vowelCount)\n",
    "print(\"Number Of Consonant:\" , consonantCount)\n"
   ]
  },
  {
   "cell_type": "markdown",
   "id": "e0d6f3b6-10d6-4cd1-8fb8-869665e8c0ba",
   "metadata": {},
   "source": [
    "#### Q2. Check if a string is a palindrome (e.g., \"madam\")."
   ]
  },
  {
   "cell_type": "code",
   "execution_count": 5,
   "id": "e42aabf8-878f-48d6-9835-e6f714127ebb",
   "metadata": {},
   "outputs": [
    {
     "name": "stdin",
     "output_type": "stream",
     "text": [
      "Enter your String : MADAM\n"
     ]
    },
    {
     "name": "stdout",
     "output_type": "stream",
     "text": [
      "It is Palindrome\n"
     ]
    }
   ],
   "source": [
    "str=input(\"Enter your String :\")\n",
    "\n",
    "if  str==str[::-1]:\n",
    "     print(\"It is Palindrome\")\n",
    "else:\n",
    "    print(\"it is not Palindrome\")"
   ]
  },
  {
   "cell_type": "markdown",
   "id": "c0fe08ac-4652-4b09-837f-a4956f4bbbe6",
   "metadata": {},
   "source": [
    "#### Q3 Count the number of words in a sentence."
   ]
  },
  {
   "cell_type": "code",
   "execution_count": 8,
   "id": "522b251b-4ba9-4ac2-a601-254d7207295d",
   "metadata": {},
   "outputs": [
    {
     "name": "stdin",
     "output_type": "stream",
     "text": [
      "Enter your String Here : fcgvhbjkl\n"
     ]
    },
    {
     "name": "stdout",
     "output_type": "stream",
     "text": [
      "Your total String Is: 0\n"
     ]
    }
   ],
   "source": [
    "str=input(\"Enter your String Here :\")\n",
    "\n",
    "print(\"Your total String Is:\",str.count(\"a\"))\n"
   ]
  },
  {
   "cell_type": "markdown",
   "id": "488d4f3c-adb9-46c9-9d92-e30edabad376",
   "metadata": {},
   "source": [
    "#### Q4. Convert \"Machine Learning is fun\" to 'machine_learning_is_fun'.\n"
   ]
  },
  {
   "cell_type": "code",
   "execution_count": 10,
   "id": "6eb0583a-bb77-478c-ab51-efbab5b4f004",
   "metadata": {},
   "outputs": [
    {
     "name": "stdout",
     "output_type": "stream",
     "text": [
      "Before Change: Machine Learning Is fun\n",
      "After Change: machine_learning_is_fun\n"
     ]
    }
   ],
   "source": [
    "str=\"Machine Learning Is fun\"  \n",
    "print(\"Before Change:\",str)\n",
    "str=str.lower()\n",
    "\n",
    "print(\"After Change:\", str.replace(\" \",\"_\"))\n",
    "\n"
   ]
  },
  {
   "cell_type": "markdown",
   "id": "f23f05c6-9cbf-4903-b95c-9f2a32fde268",
   "metadata": {},
   "source": [
    "#### Q5. Replace all spaces in a string with -."
   ]
  },
  {
   "cell_type": "code",
   "execution_count": 11,
   "id": "9a4e6ccd-5560-4106-9b4f-4bae429cf68f",
   "metadata": {},
   "outputs": [
    {
     "name": "stdin",
     "output_type": "stream",
     "text": [
      "Enter Your String Here: Anand Kumar raj Pakhraniya\n"
     ]
    },
    {
     "name": "stdout",
     "output_type": "stream",
     "text": [
      "After Convert: Anand_.Kumar_.raj_.Pakhraniya\n"
     ]
    }
   ],
   "source": [
    "str=input(\"Enter Your String Here:\")\n",
    "print(\"After Convert:\", str.replace(\" \",\"_.\"))"
   ]
  },
  {
   "cell_type": "markdown",
   "id": "21cb6425-0592-476c-ad91-1e7f8588e4b3",
   "metadata": {},
   "source": [
    "#### Q6. Convert \"Welcome To DAML\" to all lowercase.\n"
   ]
  },
  {
   "cell_type": "code",
   "execution_count": 14,
   "id": "44963461-0358-4862-8264-763ca7898f22",
   "metadata": {},
   "outputs": [
    {
     "name": "stdout",
     "output_type": "stream",
     "text": [
      "After Convert: welcome to daml\n"
     ]
    }
   ],
   "source": [
    "str=\"Welcome TO DAML\"\n",
    "print(\"After Convert:\" , str.lower() )"
   ]
  },
  {
   "cell_type": "markdown",
   "id": "5bd28735-4d15-478c-ba30-6c3cfd40adc9",
   "metadata": {},
   "source": [
    "#### Q7. Remove all digits from the string."
   ]
  },
  {
   "cell_type": "code",
   "execution_count": 6,
   "id": "0275adab-0fed-4a2e-bcbb-4f9906189eff",
   "metadata": {},
   "outputs": [
    {
     "name": "stdin",
     "output_type": "stream",
     "text": [
      "Enter your String Here: sdtfg345678908765435678\n"
     ]
    },
    {
     "name": "stdout",
     "output_type": "stream",
     "text": [
      "After Deleting All Letters: sdtfg                  \n"
     ]
    }
   ],
   "source": [
    "import re \n",
    "str=input(\"Enter your String Here:\")\n",
    "result = re.sub(r'\\d',' ',str)\n",
    "print(\"After Deleting All Letters:\", result)"
   ]
  },
  {
   "cell_type": "markdown",
   "id": "a1ee089b-dcd6-44f3-b794-1def677f1409",
   "metadata": {},
   "source": [
    "#### Q8. Take a string input and print it in reverse order."
   ]
  },
  {
   "cell_type": "code",
   "execution_count": 7,
   "id": "679792fa-513d-4ef5-abe9-0ef0c1051ed6",
   "metadata": {},
   "outputs": [
    {
     "name": "stdin",
     "output_type": "stream",
     "text": [
      "Enter your String Here: asdfghj\n"
     ]
    },
    {
     "name": "stdout",
     "output_type": "stream",
     "text": [
      "After Reversing : jhgfdsa\n"
     ]
    }
   ],
   "source": [
    "str=input(\"Enter your String Here:\")\n",
    "str_p=str[::-1]\n",
    "print(\"After Reversing :\",str_p )\n"
   ]
  },
  {
   "cell_type": "markdown",
   "id": "b39009e2-c84f-41b3-b07c-c2fd80b6c2b5",
   "metadata": {},
   "source": [
    "#### Q9. Extract first and last character from the string."
   ]
  },
  {
   "cell_type": "code",
   "execution_count": 7,
   "id": "ca717f9e-57ba-4640-a0ee-d1270c07126d",
   "metadata": {},
   "outputs": [
    {
     "name": "stdin",
     "output_type": "stream",
     "text": [
      "Enter Your String Here: Anand Kumar Raj \n"
     ]
    },
    {
     "name": "stdout",
     "output_type": "stream",
     "text": [
      "first charcter: A\n",
      "Last char: j\n"
     ]
    }
   ],
   "source": [
    "str=input(\"Enter Your String Here:\")\n",
    "str=str.strip()\n",
    "\n",
    "if str:\n",
    "    print(f\"first charcter:\",str[0])\n",
    "    print(f\"Last char:\",str[-1])\n",
    "else:\n",
    "    print(\"Enput Is empty \")\n"
   ]
  },
  {
   "cell_type": "markdown",
   "id": "3dac5450-2567-46f1-bbb4-1ff3057199bd",
   "metadata": {},
   "source": [
    "#### Q10. Check if the string contains only alphabets."
   ]
  },
  {
   "cell_type": "code",
   "execution_count": 27,
   "id": "af0ff3fc-2061-4fb1-acf3-7304bd968079",
   "metadata": {},
   "outputs": [
    {
     "name": "stdin",
     "output_type": "stream",
     "text": [
      "Enter Your String Here: Anand\n"
     ]
    },
    {
     "name": "stdout",
     "output_type": "stream",
     "text": [
      "it is All Alphabet\n"
     ]
    }
   ],
   "source": [
    "str=input(\"Enter Your String Here:\")\n",
    "str=str.strip()\n",
    "if str.isalpha():\n",
    "    print(\"it is All Alphabet\")\n",
    "else:\n",
    "    print(\"it is mixed String\")\n",
    "\n"
   ]
  },
  {
   "cell_type": "markdown",
   "id": "3dd548e5-658c-4699-b1b8-f0c482371b3e",
   "metadata": {},
   "source": [
    "# ✅ Level 2: Intermediate Logic Practice\n",
    "\n",
    "\n"
   ]
  },
  {
   "cell_type": "markdown",
   "id": "5eb2146f-5200-4eea-9abc-79212f2c1b55",
   "metadata": {},
   "source": [
    "#### Q1. Write a function to capitalize the first letter of each word."
   ]
  },
  {
   "cell_type": "code",
   "execution_count": 6,
   "id": "55f12bae-4930-4087-8d25-7212c2200bfb",
   "metadata": {},
   "outputs": [
    {
     "name": "stdout",
     "output_type": "stream",
     "text": [
      "Anand Kumar Raj\n"
     ]
    }
   ],
   "source": [
    "def captlize_text(text):\n",
    "  print( text.title())\n",
    "\n",
    "captlize_text(\"ANAND KUMAR RAJ\")"
   ]
  },
  {
   "cell_type": "markdown",
   "id": "3ad3143f-4518-4290-969f-324ef4b3184a",
   "metadata": {},
   "source": [
    "#### Q2. Check if the string starts and ends with the same character."
   ]
  },
  {
   "cell_type": "code",
   "execution_count": 22,
   "id": "343d79ed-0313-400c-a10c-8b2317c2643c",
   "metadata": {},
   "outputs": [
    {
     "name": "stdin",
     "output_type": "stream",
     "text": [
      "Enter your String Here : Anand Kumar\n"
     ]
    },
    {
     "name": "stdout",
     "output_type": "stream",
     "text": [
      "value are not same\n"
     ]
    }
   ],
   "source": [
    "str=input(\"Enter your String Here :\")\n",
    "str=str.strip()\n",
    "\n",
    "if len(str)>0:\n",
    "    if str[0].lower==str[-1].lower:\n",
    "        print(\"value are same\")\n",
    "    else:\n",
    "        print(\"value are not same\")\n",
    "  \n",
    "    \n",
    "       \n",
    "   \n",
    "        \n",
    "    \n",
    "   "
   ]
  },
  {
   "cell_type": "markdown",
   "id": "b3f660cb-a04a-4c8f-be54-dc8ffb15e49f",
   "metadata": {},
   "source": [
    "#### Q3. Count the frequency of each character in a string."
   ]
  },
  {
   "cell_type": "code",
   "execution_count": 16,
   "id": "cf37d95f-93f1-4068-9810-a3f0f323f85e",
   "metadata": {
    "scrolled": true
   },
   "outputs": [
    {
     "name": "stdin",
     "output_type": "stream",
     "text": [
      "Enter Your String here: Anand Kumar Raj \n"
     ]
    },
    {
     "name": "stdout",
     "output_type": "stream",
     "text": [
      "4\n",
      "2\n",
      "4\n",
      "2\n",
      "1\n",
      "Empty All Varaibles\n",
      "1\n",
      "1\n",
      "1\n",
      "4\n",
      "2\n",
      "Empty All Varaibles\n",
      "2\n",
      "4\n",
      "1\n",
      "Empty All Varaibles\n"
     ]
    }
   ],
   "source": [
    "str=input(\"Enter Your String here:\")\n",
    "str=str.lower()\n",
    "\n",
    "for char in str:\n",
    "    if char.isalpha():\n",
    "        print(str.count(char))\n",
    "    else:\n",
    "        print(\"Empty All Varaibles\")\n",
    "        \n",
    "\n",
    "    "
   ]
  },
  {
   "cell_type": "markdown",
   "id": "912144fd-659c-45ea-b3f2-3edd84488c57",
   "metadata": {},
   "source": [
    "#### Q4. Remove duplicate characters from a string."
   ]
  },
  {
   "cell_type": "code",
   "execution_count": 19,
   "id": "4b6dbb0d-4a13-4b2b-a055-ef6c48c0d90d",
   "metadata": {},
   "outputs": [
    {
     "name": "stdin",
     "output_type": "stream",
     "text": [
      "Enter Your String here: Anand Kumar\n"
     ]
    },
    {
     "name": "stdout",
     "output_type": "stream",
     "text": [
      "Nothing\n",
      "Nothing\n",
      "Nothing\n",
      "Nothing\n",
      "Nothing\n",
      "Nothing\n",
      "Nothing\n",
      "Nothing\n",
      "Nothing\n",
      "Nothing\n"
     ]
    }
   ],
   "source": [
    " text=input(\"Enter Your String here:\")\n",
    " tex=text.lower()\n",
    "\n",
    "for char in text:\n",
    "    if char.isalpha():\n",
    "        if text[0].lower==len(text):\n",
    "            text.remove(len)\n",
    "            print(str)\n",
    "        else:\n",
    "            print(\"Nothing\")"
   ]
  },
  {
   "cell_type": "code",
   "execution_count": null,
   "id": "3b8cd5a0-fd20-4481-911b-36f6f528f0c7",
   "metadata": {},
   "outputs": [],
   "source": []
  }
 ],
 "metadata": {
  "kernelspec": {
   "display_name": "Python 3 (ipykernel)",
   "language": "python",
   "name": "python3"
  },
  "language_info": {
   "codemirror_mode": {
    "name": "ipython",
    "version": 3
   },
   "file_extension": ".py",
   "mimetype": "text/x-python",
   "name": "python",
   "nbconvert_exporter": "python",
   "pygments_lexer": "ipython3",
   "version": "3.10.11"
  }
 },
 "nbformat": 4,
 "nbformat_minor": 5
}
